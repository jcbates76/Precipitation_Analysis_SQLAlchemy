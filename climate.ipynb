{
 "cells": [
  {
   "cell_type": "code",
   "execution_count": 95,
   "metadata": {},
   "outputs": [],
   "source": [
    "from matplotlib import style\n",
    "style.use('fivethirtyeight')\n",
    "import matplotlib.pyplot as plt"
   ]
  },
  {
   "cell_type": "code",
   "execution_count": 181,
   "metadata": {},
   "outputs": [],
   "source": [
    "import numpy as np\n",
    "import pandas as pd\n",
    "import datetime as dt"
   ]
  },
  {
   "cell_type": "markdown",
   "metadata": {},
   "source": [
    "# Reflect Tables into SQLAlchemy ORM"
   ]
  },
  {
   "cell_type": "code",
   "execution_count": 97,
   "metadata": {},
   "outputs": [],
   "source": [
    "# Python SQL toolkit and Object Relational Mapper\n",
    "import sqlalchemy\n",
    "from sqlalchemy.ext.automap import automap_base\n",
    "from sqlalchemy.orm import Session\n",
    "from sqlalchemy import create_engine, inspect, func"
   ]
  },
  {
   "cell_type": "code",
   "execution_count": 98,
   "metadata": {},
   "outputs": [],
   "source": [
    "# create engine to hawaii.sqlite\n",
    "engine = create_engine(\"sqlite:///Resources/hawaii.sqlite\", echo=False)"
   ]
  },
  {
   "cell_type": "code",
   "execution_count": 99,
   "metadata": {},
   "outputs": [],
   "source": [
    "# reflect an existing database into a new model\n",
    "Base = automap_base()\n",
    "Base.prepare(engine, reflect=True)\n",
    "\n"
   ]
  },
  {
   "cell_type": "code",
   "execution_count": 100,
   "metadata": {},
   "outputs": [
    {
     "data": {
      "text/plain": [
       "['measurement', 'station']"
      ]
     },
     "execution_count": 100,
     "metadata": {},
     "output_type": "execute_result"
    }
   ],
   "source": [
    "# View all of the classes that automap found\n",
    "Base.classes.keys()"
   ]
  },
  {
   "cell_type": "code",
   "execution_count": 101,
   "metadata": {},
   "outputs": [],
   "source": [
    "# Save references to each table\n",
    "measurement = Base.classes.measurement\n",
    "\n",
    "station = Base.classes.station"
   ]
  },
  {
   "cell_type": "code",
   "execution_count": 102,
   "metadata": {},
   "outputs": [],
   "source": [
    "# Create our session (link) from Python to the DB\n",
    "session = Session(engine)"
   ]
  },
  {
   "cell_type": "code",
   "execution_count": 103,
   "metadata": {},
   "outputs": [
    {
     "name": "stdout",
     "output_type": "stream",
     "text": [
      "id INTEGER\n",
      "station TEXT\n",
      "date TEXT\n",
      "prcp FLOAT\n",
      "tobs FLOAT\n"
     ]
    }
   ],
   "source": [
    "# Explore the table measurement to find the columns\n",
    "inspector = inspect(engine)\n",
    "\n",
    "columns = inspector.get_columns('measurement')\n",
    "for c in columns:\n",
    "    print(c['name'], c[\"type\"])"
   ]
  },
  {
   "cell_type": "code",
   "execution_count": 104,
   "metadata": {},
   "outputs": [
    {
     "name": "stdout",
     "output_type": "stream",
     "text": [
      "id INTEGER\n",
      "station TEXT\n",
      "name TEXT\n",
      "latitude FLOAT\n",
      "longitude FLOAT\n",
      "elevation FLOAT\n"
     ]
    }
   ],
   "source": [
    "# Explore the table measurement to find the columns\n",
    "\n",
    "columns = inspector.get_columns('station')\n",
    "for c in columns:\n",
    "    print(c['name'], c[\"type\"])"
   ]
  },
  {
   "cell_type": "markdown",
   "metadata": {},
   "source": [
    "# Exploratory Precipitation Analysis"
   ]
  },
  {
   "cell_type": "code",
   "execution_count": 252,
   "metadata": {},
   "outputs": [
    {
     "data": {
      "text/plain": [
       "[(19550,)]"
      ]
     },
     "execution_count": 252,
     "metadata": {},
     "output_type": "execute_result"
    }
   ],
   "source": [
    "# Find the most recent date in the data set.\n",
    "\n",
    "# Total dates\n",
    "session.query(func.count(measurement.date)).all()"
   ]
  },
  {
   "cell_type": "code",
   "execution_count": 253,
   "metadata": {},
   "outputs": [
    {
     "data": {
      "text/plain": [
       "'2017-08-23'"
      ]
     },
     "execution_count": 253,
     "metadata": {},
     "output_type": "execute_result"
    }
   ],
   "source": [
    "# Determine the latest Date\n",
    "latest_date = session.query(measurement.date).order_by(measurement.date.desc()).first()\n",
    "latest_date[0]\n"
   ]
  },
  {
   "cell_type": "code",
   "execution_count": 254,
   "metadata": {},
   "outputs": [
    {
     "data": {
      "text/plain": [
       "datetime.datetime(2016, 8, 22, 0, 0)"
      ]
     },
     "execution_count": 254,
     "metadata": {},
     "output_type": "execute_result"
    }
   ],
   "source": [
    "query_date = dt.datetime.strptime(latest_date[0], '%Y-%m-%d') - dt.timedelta(days = 366)\n",
    "query_date"
   ]
  },
  {
   "cell_type": "code",
   "execution_count": 255,
   "metadata": {},
   "outputs": [
    {
     "data": {
      "text/html": [
       "<div>\n",
       "<style scoped>\n",
       "    .dataframe tbody tr th:only-of-type {\n",
       "        vertical-align: middle;\n",
       "    }\n",
       "\n",
       "    .dataframe tbody tr th {\n",
       "        vertical-align: top;\n",
       "    }\n",
       "\n",
       "    .dataframe thead th {\n",
       "        text-align: right;\n",
       "    }\n",
       "</style>\n",
       "<table border=\"1\" class=\"dataframe\">\n",
       "  <thead>\n",
       "    <tr style=\"text-align: right;\">\n",
       "      <th></th>\n",
       "      <th>precipitation</th>\n",
       "    </tr>\n",
       "    <tr>\n",
       "      <th>date</th>\n",
       "      <th></th>\n",
       "    </tr>\n",
       "  </thead>\n",
       "  <tbody>\n",
       "    <tr>\n",
       "      <th>2016-08-23</th>\n",
       "      <td>0.00</td>\n",
       "    </tr>\n",
       "    <tr>\n",
       "      <th>2016-08-23</th>\n",
       "      <td>0.02</td>\n",
       "    </tr>\n",
       "    <tr>\n",
       "      <th>2016-08-23</th>\n",
       "      <td>0.05</td>\n",
       "    </tr>\n",
       "    <tr>\n",
       "      <th>2016-08-23</th>\n",
       "      <td>0.70</td>\n",
       "    </tr>\n",
       "    <tr>\n",
       "      <th>2016-08-23</th>\n",
       "      <td>0.15</td>\n",
       "    </tr>\n",
       "  </tbody>\n",
       "</table>\n",
       "</div>"
      ],
      "text/plain": [
       "            precipitation\n",
       "date                     \n",
       "2016-08-23           0.00\n",
       "2016-08-23           0.02\n",
       "2016-08-23           0.05\n",
       "2016-08-23           0.70\n",
       "2016-08-23           0.15"
      ]
     },
     "execution_count": 255,
     "metadata": {},
     "output_type": "execute_result"
    }
   ],
   "source": [
    "# Perform a query to retrieve the data and precipitation scores\n",
    "results = session.query(measurement.date, measurement.prcp)\\\n",
    "    .filter(measurement.date >= query_date, measurement.prcp >=0).all()\n",
    "\n",
    "# Save the query results as a Pandas DataFrame and set the index to the date column\n",
    "results_df = pd.DataFrame(results, columns=['date', 'precipitation'])\n",
    "results_df = results_df.set_index('date')\n",
    "\n",
    "# Sort the dataframe by date\n",
    "results_df = results_df.sort_values(by='date', axis=0, ascending=True)\n",
    "results_df.head()"
   ]
  },
  {
   "cell_type": "code",
   "execution_count": 256,
   "metadata": {},
   "outputs": [
    {
     "data": {
      "text/plain": [
       "precipitation    2021\n",
       "dtype: int64"
      ]
     },
     "execution_count": 256,
     "metadata": {},
     "output_type": "execute_result"
    }
   ],
   "source": [
    "# Count of the results\n",
    "results_df.count()"
   ]
  },
  {
   "cell_type": "code",
   "execution_count": 268,
   "metadata": {},
   "outputs": [
    {
     "data": {
      "image/png": "[encoded data removed]",
      "text/plain": [
       "<Figure size 1080x720 with 1 Axes>"
      ]
     },
     "metadata": {},
     "output_type": "display_data"
    }
   ],
   "source": [
    "plt.figure(figsize=(15,10))\n",
    "plt.bar(results_df.index, results_df['precipitation'], width=3, label=\"precipitation\")\n",
    "plt.xticks(rotation='vertical', fontsize=15)\n",
    "plt.xticks(['2016-08-23', '2016-10-01', '2016-11-09', '2016-12-19', '2017-01-28', '2017-03-09', '2017-04-18', '2017-05-31', '2017-07-10'])\n",
    "plt.title('Recent 12-Month Precipitation')\n",
    "plt.xlabel('Date')\n",
    "plt.ylabel('Inches')\n",
    "plt.legend(loc=\"upper right\", fontsize=\"medium\")\n",
    "plt.tight_layout()\n",
    "plt.show()"
   ]
  },
  {
   "cell_type": "code",
   "execution_count": 269,
   "metadata": {},
   "outputs": [
    {
     "data": {
      "text/html": [
       "<div>\n",
       "<style scoped>\n",
       "    .dataframe tbody tr th:only-of-type {\n",
       "        vertical-align: middle;\n",
       "    }\n",
       "\n",
       "    .dataframe tbody tr th {\n",
       "        vertical-align: top;\n",
       "    }\n",
       "\n",
       "    .dataframe thead th {\n",
       "        text-align: right;\n",
       "    }\n",
       "</style>\n",
       "<table border=\"1\" class=\"dataframe\">\n",
       "  <thead>\n",
       "    <tr style=\"text-align: right;\">\n",
       "      <th></th>\n",
       "      <th>precipitation</th>\n",
       "    </tr>\n",
       "  </thead>\n",
       "  <tbody>\n",
       "    <tr>\n",
       "      <th>count</th>\n",
       "      <td>2021.000000</td>\n",
       "    </tr>\n",
       "    <tr>\n",
       "      <th>mean</th>\n",
       "      <td>0.177279</td>\n",
       "    </tr>\n",
       "    <tr>\n",
       "      <th>std</th>\n",
       "      <td>0.461190</td>\n",
       "    </tr>\n",
       "    <tr>\n",
       "      <th>min</th>\n",
       "      <td>0.000000</td>\n",
       "    </tr>\n",
       "    <tr>\n",
       "      <th>25%</th>\n",
       "      <td>0.000000</td>\n",
       "    </tr>\n",
       "    <tr>\n",
       "      <th>50%</th>\n",
       "      <td>0.020000</td>\n",
       "    </tr>\n",
       "    <tr>\n",
       "      <th>75%</th>\n",
       "      <td>0.130000</td>\n",
       "    </tr>\n",
       "    <tr>\n",
       "      <th>max</th>\n",
       "      <td>6.700000</td>\n",
       "    </tr>\n",
       "  </tbody>\n",
       "</table>\n",
       "</div>"
      ],
      "text/plain": [
       "       precipitation\n",
       "count    2021.000000\n",
       "mean        0.177279\n",
       "std         0.461190\n",
       "min         0.000000\n",
       "25%         0.000000\n",
       "50%         0.020000\n",
       "75%         0.130000\n",
       "max         6.700000"
      ]
     },
     "execution_count": 269,
     "metadata": {},
     "output_type": "execute_result"
    }
   ],
   "source": [
    "# Use Pandas to calcualte the summary statistics for the precipitation data\n",
    "results_df.describe()"
   ]
  },
  {
   "cell_type": "markdown",
   "metadata": {},
   "source": [
    "# Exploratory Station Analysis"
   ]
  },
  {
   "cell_type": "code",
   "execution_count": 292,
   "metadata": {},
   "outputs": [
    {
     "data": {
      "text/plain": [
       "[(9,)]"
      ]
     },
     "execution_count": 292,
     "metadata": {},
     "output_type": "execute_result"
    }
   ],
   "source": [
    "# Design a query to calculate the total number stations in the dataset\n",
    "total_stations = session.query(func.count(func.distinct(measurement.station))).all()\n",
    "total_stations"
   ]
  },
  {
   "cell_type": "code",
   "execution_count": 287,
   "metadata": {},
   "outputs": [
    {
     "data": {
      "text/html": [
       "<div>\n",
       "<style scoped>\n",
       "    .dataframe tbody tr th:only-of-type {\n",
       "        vertical-align: middle;\n",
       "    }\n",
       "\n",
       "    .dataframe tbody tr th {\n",
       "        vertical-align: top;\n",
       "    }\n",
       "\n",
       "    .dataframe thead th {\n",
       "        text-align: right;\n",
       "    }\n",
       "</style>\n",
       "<table border=\"1\" class=\"dataframe\">\n",
       "  <thead>\n",
       "    <tr style=\"text-align: right;\">\n",
       "      <th></th>\n",
       "      <th>Station_Name</th>\n",
       "      <th>Observation_Count</th>\n",
       "    </tr>\n",
       "    <tr>\n",
       "      <th>Station_ID</th>\n",
       "      <th></th>\n",
       "      <th></th>\n",
       "    </tr>\n",
       "  </thead>\n",
       "  <tbody>\n",
       "    <tr>\n",
       "      <th>USC00519281</th>\n",
       "      <td>WAIHEE 837.5, HI US</td>\n",
       "      <td>2772</td>\n",
       "    </tr>\n",
       "    <tr>\n",
       "      <th>USC00519397</th>\n",
       "      <td>WAIKIKI 717.2, HI US</td>\n",
       "      <td>2724</td>\n",
       "    </tr>\n",
       "    <tr>\n",
       "      <th>USC00513117</th>\n",
       "      <td>KANEOHE 838.1, HI US</td>\n",
       "      <td>2709</td>\n",
       "    </tr>\n",
       "    <tr>\n",
       "      <th>USC00519523</th>\n",
       "      <td>WAIMANALO EXPERIMENTAL FARM, HI US</td>\n",
       "      <td>2669</td>\n",
       "    </tr>\n",
       "    <tr>\n",
       "      <th>USC00516128</th>\n",
       "      <td>MANOA LYON ARBO 785.2, HI US</td>\n",
       "      <td>2612</td>\n",
       "    </tr>\n",
       "    <tr>\n",
       "      <th>USC00514830</th>\n",
       "      <td>KUALOA RANCH HEADQUARTERS 886.9, HI US</td>\n",
       "      <td>2202</td>\n",
       "    </tr>\n",
       "    <tr>\n",
       "      <th>USC00511918</th>\n",
       "      <td>HONOLULU OBSERVATORY 702.2, HI US</td>\n",
       "      <td>1979</td>\n",
       "    </tr>\n",
       "    <tr>\n",
       "      <th>USC00517948</th>\n",
       "      <td>PEARL CITY, HI US</td>\n",
       "      <td>1372</td>\n",
       "    </tr>\n",
       "    <tr>\n",
       "      <th>USC00518838</th>\n",
       "      <td>UPPER WAHIAWA 874.3, HI US</td>\n",
       "      <td>511</td>\n",
       "    </tr>\n",
       "  </tbody>\n",
       "</table>\n",
       "</div>"
      ],
      "text/plain": [
       "                                       Station_Name  Observation_Count\n",
       "Station_ID                                                            \n",
       "USC00519281                     WAIHEE 837.5, HI US               2772\n",
       "USC00519397                    WAIKIKI 717.2, HI US               2724\n",
       "USC00513117                    KANEOHE 838.1, HI US               2709\n",
       "USC00519523      WAIMANALO EXPERIMENTAL FARM, HI US               2669\n",
       "USC00516128            MANOA LYON ARBO 785.2, HI US               2612\n",
       "USC00514830  KUALOA RANCH HEADQUARTERS 886.9, HI US               2202\n",
       "USC00511918       HONOLULU OBSERVATORY 702.2, HI US               1979\n",
       "USC00517948                       PEARL CITY, HI US               1372\n",
       "USC00518838              UPPER WAHIAWA 874.3, HI US                511"
      ]
     },
     "execution_count": 287,
     "metadata": {},
     "output_type": "execute_result"
    }
   ],
   "source": [
    "# Design a query to find the most active stations (i.e. what stations have the most rows?)\n",
    "# List the stations and the counts in descending order.\n",
    "sel = [measurement.station, station.station, station.name, func.count(measurement.station)]\n",
    "\n",
    "station_results = session.query(*sel)\\\n",
    "    .filter(measurement.station == station.station)\\\n",
    "    .group_by(measurement.station)\\\n",
    "    .order_by(func.count(measurement.station).desc()).all()\n",
    "station_results_df = pd.DataFrame(station_results, columns=['Station_ID', 'Station_ID_S', 'Station_Name', 'Observation_Count'])\n",
    "station_results_df = station_results_df.drop('Station_ID_S', axis=1)\n",
    "station_results_df = station_results_df.set_index('Station_ID')\n",
    "station_results_df"
   ]
  },
  {
   "cell_type": "code",
   "execution_count": 288,
   "metadata": {},
   "outputs": [
    {
     "data": {
      "text/plain": [
       "'USC00519281'"
      ]
     },
     "execution_count": 288,
     "metadata": {},
     "output_type": "execute_result"
    }
   ],
   "source": [
    "# Using the most active station id from the previous query, calculate the lowest, highest, and average temperature.\n",
    "# Most active station\n",
    "active_station = station_results_df.index[0]\n",
    "active_station\n"
   ]
  },
  {
   "cell_type": "code",
   "execution_count": 293,
   "metadata": {},
   "outputs": [
    {
     "data": {
      "text/plain": [
       "[(54.0,)]"
      ]
     },
     "execution_count": 293,
     "metadata": {},
     "output_type": "execute_result"
    }
   ],
   "source": [
    "# Lowest Temperature\n",
    "lowest_temp = session.query(func.min(measurement.tobs)).filter(measurement.station == active_station).all()\n",
    "lowest_temp"
   ]
  },
  {
   "cell_type": "code",
   "execution_count": 294,
   "metadata": {},
   "outputs": [
    {
     "data": {
      "text/plain": [
       "[(85.0,)]"
      ]
     },
     "execution_count": 294,
     "metadata": {},
     "output_type": "execute_result"
    }
   ],
   "source": [
    "#Highest Temperature\n",
    "highest_temp = session.query(func.max(measurement.tobs)).filter(measurement.station == active_station).all()\n",
    "highest_temp"
   ]
  },
  {
   "cell_type": "code",
   "execution_count": 295,
   "metadata": {},
   "outputs": [
    {
     "data": {
      "text/plain": [
       "[(71.66378066378067,)]"
      ]
     },
     "execution_count": 295,
     "metadata": {},
     "output_type": "execute_result"
    }
   ],
   "source": [
    "# Average Temperature\n",
    "average_temp = session.query(func.avg(measurement.tobs)).filter(measurement.station == active_station).all()\n",
    "average_temp"
   ]
  },
  {
   "cell_type": "code",
   "execution_count": 297,
   "metadata": {},
   "outputs": [
    {
     "data": {
      "text/plain": [
       "[(77.0,),\n",
       " (77.0,),\n",
       " (80.0,),\n",
       " (80.0,),\n",
       " (75.0,),\n",
       " (73.0,),\n",
       " (78.0,),\n",
       " (77.0,),\n",
       " (78.0,),\n",
       " (80.0,),\n",
       " (80.0,),\n",
       " (78.0,),\n",
       " (78.0,),\n",
       " (78.0,),\n",
       " (73.0,),\n",
       " (74.0,),\n",
       " (80.0,),\n",
       " (79.0,),\n",
       " (77.0,),\n",
       " (80.0,),\n",
       " (76.0,),\n",
       " (79.0,),\n",
       " (75.0,),\n",
       " (79.0,),\n",
       " (78.0,),\n",
       " (79.0,),\n",
       " (78.0,),\n",
       " (78.0,),\n",
       " (76.0,),\n",
       " (74.0,),\n",
       " (77.0,),\n",
       " (78.0,),\n",
       " (79.0,),\n",
       " (79.0,),\n",
       " (77.0,),\n",
       " (80.0,),\n",
       " (78.0,),\n",
       " (78.0,),\n",
       " (78.0,),\n",
       " (77.0,),\n",
       " (79.0,),\n",
       " (79.0,),\n",
       " (79.0,),\n",
       " (79.0,),\n",
       " (75.0,),\n",
       " (76.0,),\n",
       " (73.0,),\n",
       " (72.0,),\n",
       " (71.0,),\n",
       " (77.0,),\n",
       " (79.0,),\n",
       " (78.0,),\n",
       " (79.0,),\n",
       " (77.0,),\n",
       " (79.0,),\n",
       " (77.0,),\n",
       " (78.0,),\n",
       " (78.0,),\n",
       " (78.0,),\n",
       " (78.0,),\n",
       " (77.0,),\n",
       " (74.0,),\n",
       " (75.0,),\n",
       " (76.0,),\n",
       " (73.0,),\n",
       " (76.0,),\n",
       " (74.0,),\n",
       " (77.0,),\n",
       " (76.0,),\n",
       " (76.0,),\n",
       " (74.0,),\n",
       " (75.0,),\n",
       " (75.0,),\n",
       " (75.0,),\n",
       " (75.0,),\n",
       " (71.0,),\n",
       " (63.0,),\n",
       " (70.0,),\n",
       " (68.0,),\n",
       " (67.0,),\n",
       " (77.0,),\n",
       " (74.0,),\n",
       " (77.0,),\n",
       " (76.0,),\n",
       " (76.0,),\n",
       " (75.0,),\n",
       " (76.0,),\n",
       " (75.0,),\n",
       " (73.0,),\n",
       " (75.0,),\n",
       " (73.0,),\n",
       " (75.0,),\n",
       " (74.0,),\n",
       " (75.0,),\n",
       " (74.0,),\n",
       " (75.0,),\n",
       " (73.0,),\n",
       " (75.0,),\n",
       " (73.0,),\n",
       " (73.0,),\n",
       " (74.0,),\n",
       " (70.0,),\n",
       " (72.0,),\n",
       " (70.0,),\n",
       " (67.0,),\n",
       " (67.0,),\n",
       " (69.0,),\n",
       " (70.0,),\n",
       " (68.0,),\n",
       " (69.0,),\n",
       " (69.0,),\n",
       " (66.0,),\n",
       " (65.0,),\n",
       " (68.0,),\n",
       " (62.0,),\n",
       " (75.0,),\n",
       " (70.0,),\n",
       " (69.0,),\n",
       " (76.0,),\n",
       " (76.0,),\n",
       " (74.0,),\n",
       " (73.0,),\n",
       " (71.0,),\n",
       " (74.0,),\n",
       " (74.0,),\n",
       " (72.0,),\n",
       " (71.0,),\n",
       " (72.0,),\n",
       " (74.0,),\n",
       " (69.0,),\n",
       " (67.0,),\n",
       " (72.0,),\n",
       " (70.0,),\n",
       " (64.0,),\n",
       " (63.0,),\n",
       " (63.0,),\n",
       " (62.0,),\n",
       " (70.0,),\n",
       " (70.0,),\n",
       " (62.0,),\n",
       " (62.0,),\n",
       " (63.0,),\n",
       " (65.0,),\n",
       " (69.0,),\n",
       " (77.0,),\n",
       " (70.0,),\n",
       " (74.0,),\n",
       " (69.0,),\n",
       " (72.0,),\n",
       " (71.0,),\n",
       " (69.0,),\n",
       " (71.0,),\n",
       " (71.0,),\n",
       " (72.0,),\n",
       " (72.0,),\n",
       " (69.0,),\n",
       " (70.0,),\n",
       " (66.0,),\n",
       " (65.0,),\n",
       " (69.0,),\n",
       " (68.0,),\n",
       " (68.0,),\n",
       " (68.0,),\n",
       " (59.0,),\n",
       " (60.0,),\n",
       " (70.0,),\n",
       " (73.0,),\n",
       " (75.0,),\n",
       " (64.0,),\n",
       " (59.0,),\n",
       " (59.0,),\n",
       " (62.0,),\n",
       " (68.0,),\n",
       " (70.0,),\n",
       " (73.0,),\n",
       " (79.0,),\n",
       " (75.0,),\n",
       " (65.0,),\n",
       " (70.0,),\n",
       " (74.0,),\n",
       " (70.0,),\n",
       " (70.0,),\n",
       " (71.0,),\n",
       " (71.0,),\n",
       " (71.0,),\n",
       " (69.0,),\n",
       " (61.0,),\n",
       " (67.0,),\n",
       " (65.0,),\n",
       " (72.0,),\n",
       " (71.0,),\n",
       " (73.0,),\n",
       " (72.0,),\n",
       " (77.0,),\n",
       " (73.0,),\n",
       " (67.0,),\n",
       " (62.0,),\n",
       " (64.0,),\n",
       " (67.0,),\n",
       " (66.0,),\n",
       " (81.0,),\n",
       " (69.0,),\n",
       " (66.0,),\n",
       " (67.0,),\n",
       " (69.0,),\n",
       " (66.0,),\n",
       " (68.0,),\n",
       " (65.0,),\n",
       " (74.0,),\n",
       " (69.0,),\n",
       " (72.0,),\n",
       " (73.0,),\n",
       " (72.0,),\n",
       " (71.0,),\n",
       " (76.0,),\n",
       " (77.0,),\n",
       " (76.0,),\n",
       " (74.0,),\n",
       " (68.0,),\n",
       " (73.0,),\n",
       " (71.0,),\n",
       " (74.0,),\n",
       " (75.0,),\n",
       " (70.0,),\n",
       " (67.0,),\n",
       " (71.0,),\n",
       " (67.0,),\n",
       " (74.0,),\n",
       " (77.0,),\n",
       " (78.0,),\n",
       " (67.0,),\n",
       " (70.0,),\n",
       " (69.0,),\n",
       " (69.0,),\n",
       " (74.0,),\n",
       " (78.0,),\n",
       " (71.0,),\n",
       " (67.0,),\n",
       " (68.0,),\n",
       " (67.0,),\n",
       " (76.0,),\n",
       " (69.0,),\n",
       " (72.0,),\n",
       " (76.0,),\n",
       " (68.0,),\n",
       " (72.0,),\n",
       " (74.0,),\n",
       " (70.0,),\n",
       " (67.0,),\n",
       " (72.0,),\n",
       " (60.0,),\n",
       " (65.0,),\n",
       " (75.0,),\n",
       " (70.0,),\n",
       " (75.0,),\n",
       " (70.0,),\n",
       " (79.0,),\n",
       " (75.0,),\n",
       " (70.0,),\n",
       " (67.0,),\n",
       " (74.0,),\n",
       " (70.0,),\n",
       " (75.0,),\n",
       " (76.0,),\n",
       " (77.0,),\n",
       " (74.0,),\n",
       " (74.0,),\n",
       " (74.0,),\n",
       " (69.0,),\n",
       " (68.0,),\n",
       " (76.0,),\n",
       " (74.0,),\n",
       " (71.0,),\n",
       " (71.0,),\n",
       " (74.0,),\n",
       " (74.0,),\n",
       " (74.0,),\n",
       " (74.0,),\n",
       " (80.0,),\n",
       " (74.0,),\n",
       " (72.0,),\n",
       " (75.0,),\n",
       " (80.0,),\n",
       " (76.0,),\n",
       " (76.0,),\n",
       " (77.0,),\n",
       " (75.0,),\n",
       " (75.0,),\n",
       " (75.0,),\n",
       " (75.0,),\n",
       " (72.0,),\n",
       " (74.0,),\n",
       " (74.0,),\n",
       " (74.0,),\n",
       " (76.0,),\n",
       " (74.0,),\n",
       " (75.0,),\n",
       " (73.0,),\n",
       " (79.0,),\n",
       " (75.0,),\n",
       " (72.0,),\n",
       " (72.0,),\n",
       " (74.0,),\n",
       " (72.0,),\n",
       " (72.0,),\n",
       " (77.0,),\n",
       " (71.0,),\n",
       " (73.0,),\n",
       " (76.0,),\n",
       " (77.0,),\n",
       " (76.0,),\n",
       " (76.0,),\n",
       " (79.0,),\n",
       " (81.0,),\n",
       " (76.0,),\n",
       " (78.0,),\n",
       " (77.0,),\n",
       " (74.0,),\n",
       " (75.0,),\n",
       " (78.0,),\n",
       " (78.0,),\n",
       " (69.0,),\n",
       " (72.0,),\n",
       " (74.0,),\n",
       " (74.0,),\n",
       " (76.0,),\n",
       " (80.0,),\n",
       " (80.0,),\n",
       " (76.0,),\n",
       " (76.0,),\n",
       " (76.0,),\n",
       " (77.0,),\n",
       " (77.0,),\n",
       " (77.0,),\n",
       " (82.0,),\n",
       " (75.0,),\n",
       " (77.0,),\n",
       " (75.0,),\n",
       " (76.0,),\n",
       " (81.0,),\n",
       " (82.0,),\n",
       " (81.0,),\n",
       " (76.0,),\n",
       " (77.0,),\n",
       " (82.0,),\n",
       " (83.0,),\n",
       " (77.0,),\n",
       " (77.0,),\n",
       " (77.0,),\n",
       " (76.0,),\n",
       " (76.0,),\n",
       " (79.0,)]"
      ]
     },
     "execution_count": 297,
     "metadata": {},
     "output_type": "execute_result"
    }
   ],
   "source": [
    "# Using the most active station id\n",
    "# Query the last 12 months of temperature observation data for this station and plot the results as a histogram\n",
    "tobs_results = session.query(measurement.tobs)\\\n",
    "    .filter(measurement.date >= query_date, measurement.station == active_station).all()\n",
    "tobs_results"
   ]
  },
  {
   "cell_type": "code",
   "execution_count": 302,
   "metadata": {},
   "outputs": [
    {
     "data": {
      "image/png": "[encoded data removed]",
      "text/plain": [
       "<Figure size 432x288 with 1 Axes>"
      ]
     },
     "metadata": {},
     "output_type": "display_data"
    }
   ],
   "source": [
    "# Plot the results in a histogram with bins=12\n",
    "import matplotlib.patches as mpatches\n",
    "\n",
    "counts, bins = np.histogram(tobs_results_df, bins=12)\n",
    "plt.hist(bins[:-1], bins, weights=counts)\n",
    "plt.title(f'Historgram of Temp Obs. for station {active_station} since {query_date}.', fontdict={'fontsize':12})\n",
    "plt.xlabel('Temperature',fontdict={'fontsize':10})\n",
    "plt.ylabel('Frequency',fontdict={'fontsize':10})\n",
    "legend = mpatches.Patch(color='#1f77b4', label='tobs')\n",
    "plt.legend(handles=[legend])\n",
    "plt.show()"
   ]
  },
  {
   "cell_type": "markdown",
   "metadata": {},
   "source": [
    "# Close session"
   ]
  },
  {
   "cell_type": "code",
   "execution_count": 303,
   "metadata": {},
   "outputs": [],
   "source": [
    "# Close Session\n",
    "session.close()"
   ]
  },
  {
   "cell_type": "code",
   "execution_count": null,
   "metadata": {},
   "outputs": [],
   "source": []
  }
 ],
 "metadata": {
  "anaconda-cloud": {},
  "kernel_info": {
   "name": "python3"
  },
  "kernelspec": {
   "display_name": "Python 3",
   "language": "python",
   "name": "python3"
  },
  "language_info": {
   "codemirror_mode": {
    "name": "ipython",
    "version": 3
   },
   "file_extension": ".py",
   "mimetype": "text/x-python",
   "name": "python",
   "nbconvert_exporter": "python",
   "pygments_lexer": "ipython3",
   "version": "3.9.7"
  },
  "nteract": {
   "version": "0.12.3"
  },
  "varInspector": {
   "cols": {
    "lenName": 16,
    "lenType": 16,
    "lenVar": 40
   },
   "kernels_config": {
    "python": {
     "delete_cmd_postfix": "",
     "delete_cmd_prefix": "del ",
     "library": "var_list.py",
     "varRefreshCmd": "print(var_dic_list())"
    },
    "r": {
     "delete_cmd_postfix": ") ",
     "delete_cmd_prefix": "rm(",
     "library": "var_list.r",
     "varRefreshCmd": "cat(var_dic_list()) "
    }
   },
   "types_to_exclude": [
    "module",
    "function",
    "builtin_function_or_method",
    "instance",
    "_Feature"
   ],
   "window_display": false
  }
 },
 "nbformat": 4,
 "nbformat_minor": 2
}
